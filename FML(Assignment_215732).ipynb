{
  "nbformat": 4,
  "nbformat_minor": 0,
  "metadata": {
    "colab": {
      "name": "FML(Assignment_215732).ipynb",
      "provenance": [],
      "collapsed_sections": [
        "e2Nc6WSRBipC",
        "ePNo8mIwUHcd",
        "MOa0R1f-MNBO",
        "ziCypssdGB-m",
        "tnKYAqbvGGGb",
        "y2G6RUXqJgpx",
        "bDOdhxgxJivH"
      ],
      "toc_visible": true,
      "machine_shape": "hm"
    },
    "kernelspec": {
      "name": "python3",
      "display_name": "Python 3"
    },
    "language_info": {
      "name": "python"
    },
    "accelerator": "TPU"
  },
  "cells": [
    {
      "cell_type": "markdown",
      "metadata": {
        "id": "sxzT1yHgr8ZQ"
      },
      "source": [
        "# **FML - Report - Binary Classification Task**"
      ]
    },
    {
      "cell_type": "markdown",
      "metadata": {
        "id": "nPoXq4wwUiGr"
      },
      "source": [
        "## Mounting Drive and importing data"
      ]
    },
    {
      "cell_type": "markdown",
      "metadata": {
        "id": "80XklxuvvxAr"
      },
      "source": [
        "### Mounting Google Drive"
      ]
    },
    {
      "cell_type": "code",
      "metadata": {
        "colab": {
          "base_uri": "https://localhost:8080/"
        },
        "id": "lhUjEohsvwdr",
        "outputId": "33148fc6-d052-4faf-b172-cf0e565786d3"
      },
      "source": [
        "from google.colab import drive\n",
        "drive.mount('/content/drive')\n"
      ],
      "execution_count": 1,
      "outputs": [
        {
          "output_type": "stream",
          "text": [
            "Drive already mounted at /content/drive; to attempt to forcibly remount, call drive.mount(\"/content/drive\", force_remount=True).\n"
          ],
          "name": "stdout"
        }
      ]
    },
    {
      "cell_type": "code",
      "metadata": {
        "id": "UMOhm9soUBeI",
        "colab": {
          "base_uri": "https://localhost:8080/"
        },
        "outputId": "855b2697-c364-43ca-e4ac-22037b7cfbe3"
      },
      "source": [
        "drive.mount('/content/drive', force_remount=True)"
      ],
      "execution_count": 2,
      "outputs": [
        {
          "output_type": "stream",
          "text": [
            "Mounted at /content/drive\n"
          ],
          "name": "stdout"
        }
      ]
    },
    {
      "cell_type": "code",
      "metadata": {
        "colab": {
          "base_uri": "https://localhost:8080/"
        },
        "id": "noA3G2K9UPHM",
        "outputId": "b58f0aaa-20a3-4b8e-ac7d-dd46c42a5813"
      },
      "source": [
        "!ls '/content/drive/MyDrive/University/Year-2/ML Notebooks/Assignment/data'"
      ],
      "execution_count": 3,
      "outputs": [
        {
          "output_type": "stream",
          "text": [
            "sample_valid_predictions.csv  test.csv\ttraining1.csv  training2.csv\n"
          ],
          "name": "stdout"
        }
      ]
    },
    {
      "cell_type": "code",
      "metadata": {
        "colab": {
          "base_uri": "https://localhost:8080/"
        },
        "id": "poQDjd3PwBoQ",
        "outputId": "b20f7295-603b-4c0b-c0ef-d4cddb7891bb"
      },
      "source": [
        "pip install -U scikit-learn"
      ],
      "execution_count": 4,
      "outputs": [
        {
          "output_type": "stream",
          "text": [
            "Collecting scikit-learn\n",
            "\u001b[?25l  Downloading https://files.pythonhosted.org/packages/a8/eb/a48f25c967526b66d5f1fa7a984594f0bf0a5afafa94a8c4dbc317744620/scikit_learn-0.24.2-cp37-cp37m-manylinux2010_x86_64.whl (22.3MB)\n",
            "\u001b[K     |████████████████████████████████| 22.3MB 6.8MB/s \n",
            "\u001b[?25hRequirement already satisfied, skipping upgrade: scipy>=0.19.1 in /usr/local/lib/python3.7/dist-packages (from scikit-learn) (1.4.1)\n",
            "Requirement already satisfied, skipping upgrade: joblib>=0.11 in /usr/local/lib/python3.7/dist-packages (from scikit-learn) (1.0.1)\n",
            "Collecting threadpoolctl>=2.0.0\n",
            "  Downloading https://files.pythonhosted.org/packages/f7/12/ec3f2e203afa394a149911729357aa48affc59c20e2c1c8297a60f33f133/threadpoolctl-2.1.0-py3-none-any.whl\n",
            "Requirement already satisfied, skipping upgrade: numpy>=1.13.3 in /usr/local/lib/python3.7/dist-packages (from scikit-learn) (1.19.5)\n",
            "Installing collected packages: threadpoolctl, scikit-learn\n",
            "  Found existing installation: scikit-learn 0.22.2.post1\n",
            "    Uninstalling scikit-learn-0.22.2.post1:\n",
            "      Successfully uninstalled scikit-learn-0.22.2.post1\n",
            "Successfully installed scikit-learn-0.24.2 threadpoolctl-2.1.0\n"
          ],
          "name": "stdout"
        }
      ]
    },
    {
      "cell_type": "code",
      "metadata": {
        "id": "atrjXSUApwjt"
      },
      "source": [
        "#Imports for Report - Binary Classification Task\n",
        "import numpy as np\n",
        "from numpy import linspace,arange,zeros,ones,concatenate,sum,abs,int,meshgrid,c_,r_,unique,ceil,dot,sqrt\n",
        "from numpy.random import normal,multivariate_normal\n",
        "\n",
        "import matplotlib.pyplot as plt\n",
        "\n",
        "from scipy.stats import norm\n",
        "import pandas as pd\n",
        "\n",
        "from sklearn.linear_model import Perceptron\n",
        "from sklearn.utils import shuffle # Will use to prepare the synthetic data\n",
        "from sklearn.neural_network import MLPClassifier\n",
        "from sklearn.metrics import accuracy_score, hinge_loss, confusion_matrix \n",
        "from sklearn.metrics import classification_report\n",
        "from sklearn.impute import KNNImputer\n",
        "from sklearn.preprocessing import StandardScaler\n",
        "from sklearn.decomposition import PCA\n",
        "import scipy.linalg as linalg\n",
        "from sklearn.model_selection import train_test_split\n",
        "from sklearn.linear_model import LogisticRegression\n",
        "\n"
      ],
      "execution_count": 5,
      "outputs": []
    },
    {
      "cell_type": "markdown",
      "metadata": {
        "id": "koTD6x4CtnLm"
      },
      "source": [
        "### Loading Data"
      ]
    },
    {
      "cell_type": "code",
      "metadata": {
        "id": "KzCCx11MVPZJ"
      },
      "source": [
        "train_data1=pd.read_csv('/content/drive/MyDrive/University/Year-2/ML Notebooks/Assignment/data/training1.csv')\n",
        "train_data2=pd.read_csv('/content/drive/MyDrive/University/Year-2/ML Notebooks/Assignment/data/training2.csv')\n",
        "test_data=pd.read_csv('/content/drive/MyDrive/University/Year-2/ML Notebooks/Assignment/data/test.csv')\n",
        "sample_predictions = pd.read_csv('/content/drive/MyDrive/University/Year-2/ML Notebooks/Assignment/data/sample_valid_predictions.csv')\n"
      ],
      "execution_count": 6,
      "outputs": []
    },
    {
      "cell_type": "markdown",
      "metadata": {
        "id": "WirQMpvqG5hj"
      },
      "source": [
        "## Pre - Processing"
      ]
    },
    {
      "cell_type": "markdown",
      "metadata": {
        "id": "aie--l_IG2lg"
      },
      "source": [
        "Concatenating Training Sets"
      ]
    },
    {
      "cell_type": "code",
      "metadata": {
        "id": "By5BoaT4G2SX"
      },
      "source": [
        "#Concatenating Data Sets\n",
        "train_complete = [train_data1, train_data2]\n",
        "train_data = pd.concat(train_complete)"
      ],
      "execution_count": 7,
      "outputs": []
    },
    {
      "cell_type": "code",
      "metadata": {
        "colab": {
          "base_uri": "https://localhost:8080/"
        },
        "id": "QdxHQIksNeta",
        "outputId": "6cfe7666-5937-48dc-edff-67226f50cf25"
      },
      "source": [
        "print(train_data)\n"
      ],
      "execution_count": 10,
      "outputs": [
        {
          "output_type": "stream",
          "text": [
            "         CNNs   CNNs.1   CNNs.2   CNNs.3  ...  GIST.510  GIST.511  label  confidence\n",
            "0     0.00000  0.00000  0.25454  0.00000  ...  0.029973  0.037133    0.0        0.66\n",
            "1     0.00000  0.27491  1.11130  0.00000  ...  0.027765  0.019326    0.0        0.66\n",
            "2     0.00000  0.00000  0.23664  0.56718  ...  0.026313  0.025235    0.0        1.00\n",
            "3     0.77101  0.00000  0.00000  0.00000  ...  0.033228  0.026239    0.0        0.66\n",
            "4     0.00000  0.00000  1.43390  0.00000  ...  0.008928  0.012252    1.0        1.00\n",
            "...       ...      ...      ...      ...  ...       ...       ...    ...         ...\n",
            "2995  0.00000  0.00000  0.38509  1.51270  ...  0.019765       NaN    0.0        1.00\n",
            "2996  0.00000  0.60762  0.44145  1.50870  ...  0.032523  0.019196    0.0        0.66\n",
            "2997      NaN  0.00000  0.63908  0.00000  ...       NaN  0.063759    1.0        1.00\n",
            "2998      NaN  0.11003  0.00000  0.26777  ...  0.010782  0.014149    0.0        0.66\n",
            "2999      NaN  0.00000  0.77601  0.00000  ...  0.025381       NaN    1.0        0.66\n",
            "\n",
            "[3615 rows x 4610 columns]\n"
          ],
          "name": "stdout"
        }
      ]
    },
    {
      "cell_type": "code",
      "metadata": {
        "id": "W26AZRECKamb"
      },
      "source": [
        "#Assigning Confidence and Labels\n",
        "labels = train_data['label']\n",
        "confidence = train_data['confidence']"
      ],
      "execution_count": 8,
      "outputs": []
    },
    {
      "cell_type": "code",
      "metadata": {
        "id": "Te-59RZWVP3E"
      },
      "source": [
        "#Splitting features\n",
        "pre_train = train_data.iloc[:,:-2]\n",
        "cnn_data = pre_train.iloc[:,:-512]\n",
        "gist_data = pre_train.iloc[:,-512:]\n",
        "\n",
        "#cnn_data.shape, gist_data.shape"
      ],
      "execution_count": 9,
      "outputs": []
    },
    {
      "cell_type": "markdown",
      "metadata": {
        "id": "wL5AJwem2iyF"
      },
      "source": [
        "### Imputing Data(Interpolating using Pandas datafram)"
      ]
    },
    {
      "cell_type": "code",
      "metadata": {
        "id": "Ac91I1WCNibM"
      },
      "source": [
        "#Imputing/Interpolating Data\n",
        "#train_set2 = train_data.fillna(0)\n",
        "cnn_data2 = cnn_data.fillna(0)\n",
        "gist_data2 = gist_data.fillna(0)\n",
        "test_data2 = test_data.fillna(0)"
      ],
      "execution_count": 14,
      "outputs": []
    },
    {
      "cell_type": "markdown",
      "metadata": {
        "id": "6xdizu3_xRxf"
      },
      "source": [
        "### Scaling the Data"
      ]
    },
    {
      "cell_type": "code",
      "metadata": {
        "id": "N8roAivNxRTd"
      },
      "source": [
        "# scaling data - needed or this error appears \"ConvergenceWarning: lbfgs failed to converge (status=1):\"\n",
        "scaler = StandardScaler()\n",
        "\n",
        "scaler.fit(cnn_data2)\n",
        "cnn_s = scaler.transform(cnn_data2)\n",
        "\n",
        "scaler.fit(gist_data2)\n",
        "gist_s = scaler.transform(gist_data2)\n",
        "\n",
        "scaler.fit(test_data2)\n",
        "test_data3 = scaler.transform(test_data2)\n"
      ],
      "execution_count": 15,
      "outputs": []
    },
    {
      "cell_type": "code",
      "metadata": {
        "colab": {
          "base_uri": "https://localhost:8080/"
        },
        "id": "Tg_kr_8cdex4",
        "outputId": "8cccc932-caa9-425e-e3ef-5d138198d462"
      },
      "source": [
        "#concatenating data sets together again\n",
        "proc = [pd.DataFrame(cnn_s), pd.DataFrame(gist_s)]\n",
        "train_set2 = pd.concat(proc, axis=1)\n",
        "train_set2.shape"
      ],
      "execution_count": 16,
      "outputs": [
        {
          "output_type": "execute_result",
          "data": {
            "text/plain": [
              "(3615, 4608)"
            ]
          },
          "metadata": {
            "tags": []
          },
          "execution_count": 16
        }
      ]
    },
    {
      "cell_type": "markdown",
      "metadata": {
        "id": "Aig2e__5sE0n"
      },
      "source": [
        "### Input Normalisation of Training Data\n",
        "\n",
        "---\n",
        "\n"
      ]
    },
    {
      "cell_type": "code",
      "metadata": {
        "id": "ZrDkjN_Os_fE"
      },
      "source": [
        "#Input Normalisation - training data\n",
        "\n",
        "train_set3 = (train_set2-np.mean(train_set2,0))/np.std(train_set2,0);"
      ],
      "execution_count": 17,
      "outputs": []
    },
    {
      "cell_type": "markdown",
      "metadata": {
        "id": "e2Nc6WSRBipC"
      },
      "source": [
        "### Input Normalisation of Test Data"
      ]
    },
    {
      "cell_type": "code",
      "metadata": {
        "id": "Qm6RI09GBiSa"
      },
      "source": [
        "#Input Normalisation - test data\n",
        "test_set = (test_data3-np.mean(test_data3,0))/np.std(test_data3,0);"
      ],
      "execution_count": 18,
      "outputs": []
    },
    {
      "cell_type": "markdown",
      "metadata": {
        "id": "WfCqs4sLuIzl"
      },
      "source": [
        "## Train Validation split"
      ]
    },
    {
      "cell_type": "markdown",
      "metadata": {
        "id": "uVJaNjYMV1hr"
      },
      "source": [
        "### Training Data Set"
      ]
    },
    {
      "cell_type": "code",
      "metadata": {
        "id": "AZy1p4eCuIFe"
      },
      "source": [
        "#train-validation split\n",
        "train_d, train_val, train_labels, val_labels, train_confidence, val_confidance  = train_test_split(train_set2,labels, confidence, test_size=0.2, random_state=1)"
      ],
      "execution_count": 20,
      "outputs": []
    },
    {
      "cell_type": "code",
      "metadata": {
        "colab": {
          "base_uri": "https://localhost:8080/"
        },
        "id": "WdjZutrStlqj",
        "outputId": "ebae88b3-6ea4-4032-ce93-b79eff03aba5"
      },
      "source": [
        "train_d.shape"
      ],
      "execution_count": 21,
      "outputs": [
        {
          "output_type": "execute_result",
          "data": {
            "text/plain": [
              "(2892, 4608)"
            ]
          },
          "metadata": {
            "tags": []
          },
          "execution_count": 21
        }
      ]
    },
    {
      "cell_type": "markdown",
      "metadata": {
        "id": "KElXQZdoBQ7V"
      },
      "source": [
        "## Simple Logisitic Regression"
      ]
    },
    {
      "cell_type": "markdown",
      "metadata": {
        "id": "SiEp65fGLH8m"
      },
      "source": [
        "### For Training Set"
      ]
    },
    {
      "cell_type": "code",
      "metadata": {
        "id": "rAbk8GsFBP0w",
        "colab": {
          "base_uri": "https://localhost:8080/"
        },
        "outputId": "19258122-0f30-4fa4-dde8-b3cd7e31dcbf"
      },
      "source": [
        "# Creating a classifier object\n",
        "log_classifier1 = LogisticRegression()\n",
        "# Fit it to the data\n",
        "log_classifier1.fit(train_d,train_labels,train_confidence)"
      ],
      "execution_count": 24,
      "outputs": [
        {
          "output_type": "stream",
          "text": [
            "/usr/local/lib/python3.7/dist-packages/sklearn/linear_model/_logistic.py:765: ConvergenceWarning: lbfgs failed to converge (status=1):\n",
            "STOP: TOTAL NO. of ITERATIONS REACHED LIMIT.\n",
            "\n",
            "Increase the number of iterations (max_iter) or scale the data as shown in:\n",
            "    https://scikit-learn.org/stable/modules/preprocessing.html\n",
            "Please also refer to the documentation for alternative solver options:\n",
            "    https://scikit-learn.org/stable/modules/linear_model.html#logistic-regression\n",
            "  extra_warning_msg=_LOGISTIC_SOLVER_CONVERGENCE_MSG)\n"
          ],
          "name": "stderr"
        },
        {
          "output_type": "execute_result",
          "data": {
            "text/plain": [
              "LogisticRegression()"
            ]
          },
          "metadata": {
            "tags": []
          },
          "execution_count": 24
        }
      ]
    },
    {
      "cell_type": "code",
      "metadata": {
        "id": "oB65Czb6ifSL",
        "colab": {
          "base_uri": "https://localhost:8080/"
        },
        "outputId": "e27c709e-98a0-45ab-9f87-eeabb28f6275"
      },
      "source": [
        "#prediction and accuracy score\n",
        "import sklearn.metrics as metrics\n",
        "log_pred = log_classifier1.predict(train_val)\n",
        "metrics.accuracy_score(log_pred, val_labels)"
      ],
      "execution_count": 25,
      "outputs": [
        {
          "output_type": "execute_result",
          "data": {
            "text/plain": [
              "0.6749654218533887"
            ]
          },
          "metadata": {
            "tags": []
          },
          "execution_count": 25
        }
      ]
    },
    {
      "cell_type": "markdown",
      "metadata": {
        "id": "q44CH-lrGqgv"
      },
      "source": [
        "### Random Forest Classifier"
      ]
    },
    {
      "cell_type": "code",
      "metadata": {
        "colab": {
          "base_uri": "https://localhost:8080/"
        },
        "id": "bUyhL0qiGwDX",
        "outputId": "185b275c-15ff-4980-ace2-db7fba0f3512"
      },
      "source": [
        "#Random Forest\n",
        "from sklearn.pipeline import Pipeline\n",
        "from sklearn.feature_selection import SelectFromModel\n",
        "from sklearn.ensemble import ExtraTreesClassifier\n",
        "from sklearn.ensemble import RandomForestClassifier\n",
        "from sklearn.svm import LinearSVC\n",
        "from sklearn.svm import SVC\n",
        "#Pipeline - including ExtraTreesClassifier\n",
        "#hyperparameters for classifier\n",
        "rf_clf = Pipeline([\n",
        "  ('feature_selection', SelectFromModel(ExtraTreesClassifier(n_estimators=50))),\n",
        "  ('classification', RandomForestClassifier(n_estimators=100, criterion='gini', max_depth=None, min_samples_split=2, min_samples_leaf=1, \n",
        "                                            min_weight_fraction_leaf=0.0, max_features='auto', max_leaf_nodes=None, min_impurity_decrease=0.0, \n",
        "                                            min_impurity_split=None, bootstrap=True, oob_score=False, n_jobs=None, random_state=None, verbose=0, \n",
        "                                            warm_start=False, class_weight=None, ccp_alpha=0.0, max_samples=None))\n",
        "])\n",
        "rf_clf.fit(train_d, train_labels)\n",
        "rf_pred = rf_clf.predict(train_val) # Prediction after learning\n",
        "\n",
        "#print('Process completed in %d epochs' % slp_clf.n_iter_['classification'])\n",
        "print('Classification accuracy = %d' % accuracy_score(val_labels, rf_pred, normalize=False))\n",
        "print(confusion_matrix(val_labels, rf_pred)) # Confusion matrix"
      ],
      "execution_count": 36,
      "outputs": [
        {
          "output_type": "stream",
          "text": [
            "Classification accuracy = 536\n",
            "[[300  94]\n",
            " [ 93 236]]\n"
          ],
          "name": "stdout"
        }
      ]
    },
    {
      "cell_type": "code",
      "metadata": {
        "colab": {
          "base_uri": "https://localhost:8080/"
        },
        "id": "nkaIm36ZIe_M",
        "outputId": "3c39f4c2-fa89-4371-a0e9-50e22fe89537"
      },
      "source": [
        "#Accuracy\n",
        "metrics.accuracy_score(val_labels,rf_pred)"
      ],
      "execution_count": 37,
      "outputs": [
        {
          "output_type": "execute_result",
          "data": {
            "text/plain": [
              "0.7413554633471646"
            ]
          },
          "metadata": {
            "tags": []
          },
          "execution_count": 37
        }
      ]
    },
    {
      "cell_type": "code",
      "metadata": {
        "colab": {
          "base_uri": "https://localhost:8080/"
        },
        "id": "E_xwm5p_S1eb",
        "outputId": "3b61e505-1966-4557-dda2-dd72cdf286c0"
      },
      "source": [
        "#F1 Score\n",
        "from sklearn.metrics import f1_score\n",
        "f1_score(val_labels,rf_pred)"
      ],
      "execution_count": 38,
      "outputs": [
        {
          "output_type": "execute_result",
          "data": {
            "text/plain": [
              "0.7162367223065251"
            ]
          },
          "metadata": {
            "tags": []
          },
          "execution_count": 38
        }
      ]
    },
    {
      "cell_type": "code",
      "metadata": {
        "colab": {
          "base_uri": "https://localhost:8080/"
        },
        "id": "SQzBenuzSyxg",
        "outputId": "3ad3da23-4dea-4cc6-cc73-7cf7b9047e15"
      },
      "source": [
        "#Precision\n",
        "from sklearn.metrics import precision_score\n",
        "precision_score(val_labels,rf_pred, average='macro')"
      ],
      "execution_count": 39,
      "outputs": [
        {
          "output_type": "execute_result",
          "data": {
            "text/plain": [
              "0.7392551468887347"
            ]
          },
          "metadata": {
            "tags": []
          },
          "execution_count": 39
        }
      ]
    },
    {
      "cell_type": "code",
      "metadata": {
        "colab": {
          "base_uri": "https://localhost:8080/"
        },
        "id": "X3nPLjIvSwNg",
        "outputId": "8da73d38-5a0e-43b4-d2f9-b05e42820314"
      },
      "source": [
        "#Recall\n",
        "from sklearn.metrics import recall_score\n",
        "recall_score(val_labels,rf_pred, average='macro')"
      ],
      "execution_count": 40,
      "outputs": [
        {
          "output_type": "execute_result",
          "data": {
            "text/plain": [
              "0.7393732738802401"
            ]
          },
          "metadata": {
            "tags": []
          },
          "execution_count": 40
        }
      ]
    },
    {
      "cell_type": "code",
      "metadata": {
        "colab": {
          "base_uri": "https://localhost:8080/",
          "height": 300
        },
        "id": "qgRk3e0nIhbl",
        "outputId": "aeda5bb1-80c7-4be8-c232-8a0181e91f4d"
      },
      "source": [
        "metrics.plot_confusion_matrix(rf_clf, X=train_val ,y_true=val_labels, display_labels=[\"Not sunny\",\"Sunny\"], values_format='d')"
      ],
      "execution_count": 41,
      "outputs": [
        {
          "output_type": "execute_result",
          "data": {
            "text/plain": [
              "<sklearn.metrics._plot.confusion_matrix.ConfusionMatrixDisplay at 0x7fd79a01da50>"
            ]
          },
          "metadata": {
            "tags": []
          },
          "execution_count": 41
        },
        {
          "output_type": "display_data",
          "data": {
            "image/png": "[encoded data removed]",
            "text/plain": [
              "<Figure size 432x288 with 2 Axes>"
            ]
          },
          "metadata": {
            "tags": [],
            "needs_background": "light"
          }
        }
      ]
    },
    {
      "cell_type": "code",
      "metadata": {
        "colab": {
          "base_uri": "https://localhost:8080/",
          "height": 285
        },
        "id": "LSNZGFZlIjjf",
        "outputId": "8df1152a-4d13-4dc1-9feb-5e5525a61224"
      },
      "source": [
        "# Applied in similar ways from this tutorial https://medium.com/@dtuk81/confusion-matrix-visualization-fc31e3f30fea\n",
        "#Improved confusion matrix\n",
        "import seaborn as sns\n",
        "c_mat = confusion_matrix(val_labels,rf_pred)\n",
        "\n",
        "#specifying group names\n",
        "group_names = ['True Neg','False Pos','False Neg','True Pos']\n",
        "group_counts = [\"{0:0.0f}\".format(value) for value in\n",
        "                c_mat.flatten()]\n",
        "group_percentages = [\"{0:.2%}\".format(value) for value in\n",
        "                     c_mat.flatten()/np.sum(c_mat)]\n",
        "labels2 = [f\"{v1}\\n{v2}\\n{v3}\" for v1, v2, v3 in\n",
        "          zip(group_names,group_counts,group_percentages)]\n",
        "labels2 = np.asarray(labels2).reshape(2,2)\n",
        "sns.heatmap(c_mat, annot=labels2, fmt='', cmap='YlGnBu')"
      ],
      "execution_count": 42,
      "outputs": [
        {
          "output_type": "execute_result",
          "data": {
            "text/plain": [
              "<matplotlib.axes._subplots.AxesSubplot at 0x7fd79a372d10>"
            ]
          },
          "metadata": {
            "tags": []
          },
          "execution_count": 42
        },
        {
          "output_type": "display_data",
          "data": {
            "image/png": "[encoded data removed]",
            "text/plain": [
              "<Figure size 432x288 with 2 Axes>"
            ]
          },
          "metadata": {
            "tags": [],
            "needs_background": "light"
          }
        }
      ]
    },
    {
      "cell_type": "markdown",
      "metadata": {
        "id": "6vVJFqL5IIEs"
      },
      "source": [
        "## Single Layer Perceptron"
      ]
    },
    {
      "cell_type": "code",
      "metadata": {
        "colab": {
          "base_uri": "https://localhost:8080/"
        },
        "id": "8jmbpcNN-i22",
        "outputId": "bf2f0568-5fe2-42a4-a0b9-9fa90eddd58d"
      },
      "source": [
        "from sklearn.pipeline import Pipeline\n",
        "from sklearn.feature_selection import SelectFromModel\n",
        "from sklearn.ensemble import ExtraTreesClassifier\n",
        "from sklearn.svm import LinearSVC\n",
        "from sklearn.svm import SVC\n",
        "from sklearn.linear_model import Perceptron\n",
        "#Single Layer Pipeline\n",
        "slp_clf = Pipeline([\n",
        "  ('feature_selection', SelectFromModel(ExtraTreesClassifier(n_estimators=50))),\n",
        "  ('classification', Perceptron(penalty='elasticnet', alpha=0.05,l1_ratio=0.15, fit_intercept=False, max_iter = 200, \n",
        "                                tol=0.005, shuffle=True, verbose=1, eta0=1.0, n_jobs=None, \n",
        "                     random_state=0, early_stopping=True, validation_fraction=0.2, n_iter_no_change=5, class_weight='balanced'))\n",
        "])\n",
        "slp_clf.fit(train_d, train_labels)\n",
        "pred_class = slp_clf.predict(train_val) # Prediction after learning\n",
        "\n",
        "#print('Process completed in %d epochs' % slp_clf.n_iter_['classification'])\n",
        "print('Classification accuracy = %d' % accuracy_score(val_labels, pred_class, normalize=False))\n",
        "print(confusion_matrix(val_labels, pred_class)) # Confusion matrix\n"
      ],
      "execution_count": 32,
      "outputs": [
        {
          "output_type": "stream",
          "text": [
            "-- Epoch 1\n",
            "Norm: 75.52, NNZs: 98, Bias: 0.000000, T: 2313, Avg. loss: 14.857458\n",
            "Total training time: 0.03 seconds.\n",
            "-- Epoch 2\n",
            "Norm: 94.09, NNZs: 55, Bias: 0.000000, T: 4626, Avg. loss: 4.332990\n",
            "Total training time: 0.07 seconds.\n",
            "-- Epoch 3\n",
            "Norm: 86.37, NNZs: 32, Bias: 0.000000, T: 6939, Avg. loss: 2.597690\n",
            "Total training time: 0.12 seconds.\n",
            "-- Epoch 4\n",
            "Norm: 72.20, NNZs: 17, Bias: 0.000000, T: 9252, Avg. loss: 2.387796\n",
            "Total training time: 0.17 seconds.\n",
            "-- Epoch 5\n",
            "Norm: 104.69, NNZs: 49, Bias: 0.000000, T: 11565, Avg. loss: 2.217611\n",
            "Total training time: 0.22 seconds.\n",
            "-- Epoch 6\n",
            "Norm: 71.07, NNZs: 19, Bias: 0.000000, T: 13878, Avg. loss: 2.189741\n",
            "Total training time: 0.26 seconds.\n",
            "-- Epoch 7\n",
            "Norm: 75.45, NNZs: 24, Bias: 0.000000, T: 16191, Avg. loss: 1.804885\n",
            "Total training time: 0.31 seconds.\n",
            "Convergence after 7 epochs took 0.31 seconds\n",
            "Classification accuracy = 506\n",
            "[[311  83]\n",
            " [134 195]]\n"
          ],
          "name": "stdout"
        }
      ]
    },
    {
      "cell_type": "code",
      "metadata": {
        "id": "uJFHQObXIY_U"
      },
      "source": [
        "# Plotting Weights\n",
        "#print('Final weights are: %f %f %f\\n' % (slp_clf.coef_[0][0], slp_clf.coef_[0][1], slp_clf.intercept_))"
      ],
      "execution_count": null,
      "outputs": []
    },
    {
      "cell_type": "code",
      "metadata": {
        "colab": {
          "base_uri": "https://localhost:8080/"
        },
        "id": "11CnMjbyF5_R",
        "outputId": "e10c4dd2-938a-4e35-bb9d-48a88675d564"
      },
      "source": [
        "#Accuracy\n",
        "metrics.accuracy_score(val_labels, pred_class)"
      ],
      "execution_count": 33,
      "outputs": [
        {
          "output_type": "execute_result",
          "data": {
            "text/plain": [
              "0.6998616874135546"
            ]
          },
          "metadata": {
            "tags": []
          },
          "execution_count": 33
        }
      ]
    },
    {
      "cell_type": "code",
      "metadata": {
        "colab": {
          "base_uri": "https://localhost:8080/"
        },
        "id": "SwJjiIhMSkCA",
        "outputId": "e91e807d-45b0-4e28-9c58-281e8362bc3a"
      },
      "source": [
        "#F1 Score\n",
        "from sklearn.metrics import f1_score\n",
        "f1_score(val_labels, pred_class)"
      ],
      "execution_count": 43,
      "outputs": [
        {
          "output_type": "execute_result",
          "data": {
            "text/plain": [
              "0.642504118616145"
            ]
          },
          "metadata": {
            "tags": []
          },
          "execution_count": 43
        }
      ]
    },
    {
      "cell_type": "code",
      "metadata": {
        "colab": {
          "base_uri": "https://localhost:8080/"
        },
        "id": "2YRvoOoXShvz",
        "outputId": "f85b85a8-4e98-462c-8aff-bd1a29d36351"
      },
      "source": [
        "#Precision\n",
        "from sklearn.metrics import precision_score\n",
        "precision_score(val_labels, pred_class, average='macro')"
      ],
      "execution_count": 44,
      "outputs": [
        {
          "output_type": "execute_result",
          "data": {
            "text/plain": [
              "0.7001576267076226"
            ]
          },
          "metadata": {
            "tags": []
          },
          "execution_count": 44
        }
      ]
    },
    {
      "cell_type": "code",
      "metadata": {
        "colab": {
          "base_uri": "https://localhost:8080/"
        },
        "id": "z-MJJVNTSfI7",
        "outputId": "dea440f0-ac1f-499c-e813-f0cebf94caa8"
      },
      "source": [
        "#Recall\n",
        "from sklearn.metrics import recall_score\n",
        "recall_score(val_labels, pred_class, average='macro')"
      ],
      "execution_count": 45,
      "outputs": [
        {
          "output_type": "execute_result",
          "data": {
            "text/plain": [
              "0.6910226343480474"
            ]
          },
          "metadata": {
            "tags": []
          },
          "execution_count": 45
        }
      ]
    },
    {
      "cell_type": "code",
      "metadata": {
        "colab": {
          "base_uri": "https://localhost:8080/",
          "height": 295
        },
        "id": "c43UemzVkA85",
        "outputId": "f141622c-0ba1-4184-faa6-a15b5f24be0a"
      },
      "source": [
        "#Confusion Matrix\n",
        "metrics.plot_confusion_matrix(slp_clf, X=train_val ,y_true=val_labels, display_labels=[\"Not sunny\",\"Sunny\"], values_format='d')"
      ],
      "execution_count": 46,
      "outputs": [
        {
          "output_type": "execute_result",
          "data": {
            "text/plain": [
              "<sklearn.metrics._plot.confusion_matrix.ConfusionMatrixDisplay at 0x7fd79a435b10>"
            ]
          },
          "metadata": {
            "tags": []
          },
          "execution_count": 46
        },
        {
          "output_type": "display_data",
          "data": {
            "image/png": "[encoded data removed]",
            "text/plain": [
              "<Figure size 432x288 with 2 Axes>"
            ]
          },
          "metadata": {
            "tags": [],
            "needs_background": "light"
          }
        }
      ]
    },
    {
      "cell_type": "code",
      "metadata": {
        "colab": {
          "base_uri": "https://localhost:8080/",
          "height": 282
        },
        "id": "iYn-pb0Gx0e7",
        "outputId": "d5bf74ab-6153-4022-8ead-79f84dfc7c69"
      },
      "source": [
        "# Applied in similar ways from this tutorial https://medium.com/@dtuk81/confusion-matrix-visualization-fc31e3f30fea\n",
        "\n",
        "import seaborn as sns\n",
        "c_mat = confusion_matrix(val_labels,pred_class)\n",
        "\n",
        "\n",
        "group_names = ['True Neg','False Pos','False Neg','True Pos']\n",
        "group_counts = [\"{0:0.0f}\".format(value) for value in\n",
        "                c_mat.flatten()]\n",
        "group_percentages = [\"{0:.2%}\".format(value) for value in\n",
        "                     c_mat.flatten()/np.sum(c_mat)]\n",
        "labels2 = [f\"{v1}\\n{v2}\\n{v3}\" for v1, v2, v3 in\n",
        "          zip(group_names,group_counts,group_percentages)]\n",
        "labels2 = np.asarray(labels2).reshape(2,2)\n",
        "sns.heatmap(c_mat, annot=labels2, fmt='', cmap='YlGnBu')"
      ],
      "execution_count": 47,
      "outputs": [
        {
          "output_type": "execute_result",
          "data": {
            "text/plain": [
              "<matplotlib.axes._subplots.AxesSubplot at 0x7fd79a210a50>"
            ]
          },
          "metadata": {
            "tags": []
          },
          "execution_count": 47
        },
        {
          "output_type": "display_data",
          "data": {
            "image/png": "[encoded data removed]",
            "text/plain": [
              "<Figure size 432x288 with 2 Axes>"
            ]
          },
          "metadata": {
            "tags": [],
            "needs_background": "light"
          }
        }
      ]
    },
    {
      "cell_type": "markdown",
      "metadata": {
        "id": "l2iclf-3oIvt"
      },
      "source": [
        "## Multilayer Perceptron"
      ]
    },
    {
      "cell_type": "code",
      "metadata": {
        "colab": {
          "base_uri": "https://localhost:8080/"
        },
        "id": "zN7IrCVYZHd3",
        "outputId": "7be2f87f-fd2d-44fb-8bd6-c6758e097088"
      },
      "source": [
        "\n",
        "from sklearn.pipeline import Pipeline\n",
        "from sklearn.feature_selection import SelectFromModel\n",
        "from sklearn.ensemble import ExtraTreesClassifier\n",
        "from sklearn.svm import LinearSVC\n",
        "from sklearn.svm import SVC\n",
        "from sklearn.linear_model import Perceptron\n",
        "mlp_clf = Pipeline([\n",
        "  ('feature_selection', SelectFromModel(ExtraTreesClassifier(n_estimators=40))),\n",
        "  ('classification', MLPClassifier(activation='logistic',solver='sgd',learning_rate='invscaling', hidden_layer_sizes=(100), shuffle=True,\n",
        "                    learning_rate_init=0.7,random_state = 2, momentum=0.5, nesterovs_momentum=False, max_iter=200,beta_1 =0.9, beta_2 = 0.999, epsilon = 1e-8))\n",
        "])\n",
        "mlp_clf.fit(train_d, train_labels)\n",
        "\n",
        "pred_class2 = mlp_clf.predict(train_val)\n",
        "\n",
        "#print('Process completed in %d epochs' % mlp_clf.n_iter_)\n",
        "print('Classification accuracy = %d' % accuracy_score(val_labels, pred_class2, normalize=False))\n",
        "print(confusion_matrix(val_labels,pred_class2)) # Confusion matrix"
      ],
      "execution_count": null,
      "outputs": [
        {
          "output_type": "stream",
          "text": [
            "Classification accuracy = 543\n",
            "[[293 101]\n",
            " [ 79 250]]\n"
          ],
          "name": "stdout"
        }
      ]
    },
    {
      "cell_type": "code",
      "metadata": {
        "colab": {
          "base_uri": "https://localhost:8080/"
        },
        "id": "yVByDdSkF8w7",
        "outputId": "2e1c7452-3472-4ecc-89b8-a5f8fdf5a49a"
      },
      "source": [
        "#Accuracy Score\n",
        "metrics.accuracy_score(val_labels,pred_class2)"
      ],
      "execution_count": null,
      "outputs": [
        {
          "output_type": "execute_result",
          "data": {
            "text/plain": [
              "0.7510373443983402"
            ]
          },
          "metadata": {
            "tags": []
          },
          "execution_count": 19
        }
      ]
    },
    {
      "cell_type": "code",
      "metadata": {
        "colab": {
          "base_uri": "https://localhost:8080/"
        },
        "id": "FS9EV2lEQqD_",
        "outputId": "a8a51492-b8ff-48d1-9ade-c70795bf3730"
      },
      "source": [
        "#F1 score\n",
        "from sklearn.metrics import f1_score\n",
        "f1_score(val_labels,pred_class2)"
      ],
      "execution_count": null,
      "outputs": [
        {
          "output_type": "execute_result",
          "data": {
            "text/plain": [
              "0.7352941176470589"
            ]
          },
          "metadata": {
            "tags": []
          },
          "execution_count": 20
        }
      ]
    },
    {
      "cell_type": "code",
      "metadata": {
        "colab": {
          "base_uri": "https://localhost:8080/"
        },
        "id": "4F80gD9HQ52S",
        "outputId": "b7f1a0d6-cb3b-4b66-cd3d-f61c953e9319"
      },
      "source": [
        "#Precision \n",
        "from sklearn.metrics import precision_score\n",
        "precision_score(val_labels,pred_class2, average='macro')"
      ],
      "execution_count": null,
      "outputs": [
        {
          "output_type": "execute_result",
          "data": {
            "text/plain": [
              "0.7499425604264314"
            ]
          },
          "metadata": {
            "tags": []
          },
          "execution_count": 21
        }
      ]
    },
    {
      "cell_type": "code",
      "metadata": {
        "colab": {
          "base_uri": "https://localhost:8080/"
        },
        "id": "rDHdPEBmQ6e-",
        "outputId": "be0da55d-4e0a-4491-d0e0-429e22ae2308"
      },
      "source": [
        "#Recall\n",
        "from sklearn.metrics import recall_score\n",
        "recall_score(val_labels,pred_class2, average='macro')"
      ],
      "execution_count": null,
      "outputs": [
        {
          "output_type": "execute_result",
          "data": {
            "text/plain": [
              "0.7517666208939564"
            ]
          },
          "metadata": {
            "tags": []
          },
          "execution_count": 22
        }
      ]
    },
    {
      "cell_type": "code",
      "metadata": {
        "colab": {
          "base_uri": "https://localhost:8080/",
          "height": 295
        },
        "id": "H3VJJ6pzacii",
        "outputId": "d4b92140-96f8-433e-d2ce-da318d71f2e0"
      },
      "source": [
        "#CF Matrix\n",
        "metrics.plot_confusion_matrix(mlp_clf, X=train_val ,y_true=val_labels, display_labels=[\"Not sunny\",\"Sunny\"], values_format='d')"
      ],
      "execution_count": null,
      "outputs": [
        {
          "output_type": "execute_result",
          "data": {
            "text/plain": [
              "<sklearn.metrics._plot.confusion_matrix.ConfusionMatrixDisplay at 0x7fb4304a0e10>"
            ]
          },
          "metadata": {
            "tags": []
          },
          "execution_count": 23
        },
        {
          "output_type": "display_data",
          "data": {
            "image/png": "[encoded data removed]",
            "text/plain": [
              "<Figure size 432x288 with 2 Axes>"
            ]
          },
          "metadata": {
            "tags": [],
            "needs_background": "light"
          }
        }
      ]
    },
    {
      "cell_type": "code",
      "metadata": {
        "colab": {
          "base_uri": "https://localhost:8080/",
          "height": 282
        },
        "id": "3KGMWkvSwcR2",
        "outputId": "df91582d-5780-4328-edae-1478cdb7e736"
      },
      "source": [
        "import seaborn as sns\n",
        "c_mat = confusion_matrix(val_labels,pred_class2)\n",
        "\n",
        "\n",
        "group_names = ['True Neg','False Pos','False Neg','True Pos']\n",
        "group_counts = [\"{0:0.0f}\".format(value) for value in\n",
        "                c_mat.flatten()]\n",
        "group_percentages = [\"{0:.2%}\".format(value) for value in\n",
        "                     c_mat.flatten()/np.sum(c_mat)]\n",
        "labels2 = [f\"{v1}\\n{v2}\\n{v3}\" for v1, v2, v3 in\n",
        "          zip(group_names,group_counts,group_percentages)]\n",
        "labels2 = np.asarray(labels2).reshape(2,2)\n",
        "sns.heatmap(c_mat, annot=labels2, fmt='', cmap='YlGnBu')"
      ],
      "execution_count": null,
      "outputs": [
        {
          "output_type": "execute_result",
          "data": {
            "text/plain": [
              "<matplotlib.axes._subplots.AxesSubplot at 0x7fb43034c790>"
            ]
          },
          "metadata": {
            "tags": []
          },
          "execution_count": 24
        },
        {
          "output_type": "display_data",
          "data": {
            "image/png": "[encoded data removed]",
            "text/plain": [
              "<Figure size 432x288 with 2 Axes>"
            ]
          },
          "metadata": {
            "tags": [],
            "needs_background": "light"
          }
        }
      ]
    },
    {
      "cell_type": "markdown",
      "metadata": {
        "id": "pXCujA-HU5tB"
      },
      "source": [
        "## Test Predictions"
      ]
    },
    {
      "cell_type": "markdown",
      "metadata": {
        "id": "cZE0MXrGU_Xl"
      },
      "source": [
        "### Logistic Regression"
      ]
    },
    {
      "cell_type": "code",
      "metadata": {
        "id": "7jegTPzQzAn3"
      },
      "source": [
        "#On Test\n",
        "log_pred_test = log_classifier1.predict(test_set)"
      ],
      "execution_count": null,
      "outputs": []
    },
    {
      "cell_type": "code",
      "metadata": {
        "colab": {
          "base_uri": "https://localhost:8080/"
        },
        "id": "JPFxBZtG317G",
        "outputId": "b09625ed-6abc-4d06-f0d0-e5c5fe004123"
      },
      "source": [
        "#metrics.accuracy_score(log_pred_test,sample_predictions)"
      ],
      "execution_count": null,
      "outputs": [
        {
          "output_type": "execute_result",
          "data": {
            "text/plain": [
              "0.48777111213659435"
            ]
          },
          "metadata": {
            "tags": []
          },
          "execution_count": 113
        }
      ]
    },
    {
      "cell_type": "code",
      "metadata": {
        "colab": {
          "base_uri": "https://localhost:8080/",
          "height": 388
        },
        "id": "eaG7x94l0NpR",
        "outputId": "ecb1d9c3-9f3e-4060-961f-d1d03daed40d"
      },
      "source": [
        "#Predictions\n",
        "predictions = pd.DataFrame(log_pred_test, columns=['prediction'])\n",
        "predictions"
      ],
      "execution_count": null,
      "outputs": [
        {
          "output_type": "execute_result",
          "data": {
            "text/html": [
              "<div>\n",
              "<style scoped>\n",
              "    .dataframe tbody tr th:only-of-type {\n",
              "        vertical-align: middle;\n",
              "    }\n",
              "\n",
              "    .dataframe tbody tr th {\n",
              "        vertical-align: top;\n",
              "    }\n",
              "\n",
              "    .dataframe thead th {\n",
              "        text-align: right;\n",
              "    }\n",
              "</style>\n",
              "<table border=\"1\" class=\"dataframe\">\n",
              "  <thead>\n",
              "    <tr style=\"text-align: right;\">\n",
              "      <th></th>\n",
              "      <th>prediction</th>\n",
              "    </tr>\n",
              "  </thead>\n",
              "  <tbody>\n",
              "    <tr>\n",
              "      <th>0</th>\n",
              "      <td>0.0</td>\n",
              "    </tr>\n",
              "    <tr>\n",
              "      <th>1</th>\n",
              "      <td>1.0</td>\n",
              "    </tr>\n",
              "    <tr>\n",
              "      <th>2</th>\n",
              "      <td>1.0</td>\n",
              "    </tr>\n",
              "    <tr>\n",
              "      <th>3</th>\n",
              "      <td>0.0</td>\n",
              "    </tr>\n",
              "    <tr>\n",
              "      <th>4</th>\n",
              "      <td>1.0</td>\n",
              "    </tr>\n",
              "    <tr>\n",
              "      <th>...</th>\n",
              "      <td>...</td>\n",
              "    </tr>\n",
              "    <tr>\n",
              "      <th>2162</th>\n",
              "      <td>0.0</td>\n",
              "    </tr>\n",
              "    <tr>\n",
              "      <th>2163</th>\n",
              "      <td>0.0</td>\n",
              "    </tr>\n",
              "    <tr>\n",
              "      <th>2164</th>\n",
              "      <td>0.0</td>\n",
              "    </tr>\n",
              "    <tr>\n",
              "      <th>2165</th>\n",
              "      <td>1.0</td>\n",
              "    </tr>\n",
              "    <tr>\n",
              "      <th>2166</th>\n",
              "      <td>0.0</td>\n",
              "    </tr>\n",
              "  </tbody>\n",
              "</table>\n",
              "<p>2167 rows × 1 columns</p>\n",
              "</div>"
            ],
            "text/plain": [
              "      prediction\n",
              "0            0.0\n",
              "1            1.0\n",
              "2            1.0\n",
              "3            0.0\n",
              "4            1.0\n",
              "...          ...\n",
              "2162         0.0\n",
              "2163         0.0\n",
              "2164         0.0\n",
              "2165         1.0\n",
              "2166         0.0\n",
              "\n",
              "[2167 rows x 1 columns]"
            ]
          },
          "metadata": {
            "tags": []
          },
          "execution_count": 66
        }
      ]
    },
    {
      "cell_type": "markdown",
      "metadata": {
        "id": "qbbTPfOALx8J"
      },
      "source": [
        "### Random Forest"
      ]
    },
    {
      "cell_type": "code",
      "metadata": {
        "id": "nM7533YhLibN"
      },
      "source": [
        "#On test\n",
        "rf_pred_test = rf_clf.predict(test_set)"
      ],
      "execution_count": null,
      "outputs": []
    },
    {
      "cell_type": "code",
      "metadata": {
        "colab": {
          "base_uri": "https://localhost:8080/"
        },
        "id": "KFimpoBWLmqk",
        "outputId": "7b4577b9-7b48-4049-9513-aade49328e2c"
      },
      "source": [
        "#metrics.accuracy_score(rf_pred_test,sample_predictions)"
      ],
      "execution_count": null,
      "outputs": [
        {
          "output_type": "execute_result",
          "data": {
            "text/plain": [
              "0.49653899400092294"
            ]
          },
          "metadata": {
            "tags": []
          },
          "execution_count": 116
        }
      ]
    },
    {
      "cell_type": "code",
      "metadata": {
        "colab": {
          "base_uri": "https://localhost:8080/",
          "height": 388
        },
        "id": "7pdYOnP6LpU8",
        "outputId": "7112126b-3922-49b5-c525-197c6e9a3e37"
      },
      "source": [
        "#On predictions\n",
        "rf_predictions = pd.DataFrame(rf_pred_test, columns=['prediction'])\n",
        "rf_predictions"
      ],
      "execution_count": null,
      "outputs": [
        {
          "output_type": "execute_result",
          "data": {
            "text/html": [
              "<div>\n",
              "<style scoped>\n",
              "    .dataframe tbody tr th:only-of-type {\n",
              "        vertical-align: middle;\n",
              "    }\n",
              "\n",
              "    .dataframe tbody tr th {\n",
              "        vertical-align: top;\n",
              "    }\n",
              "\n",
              "    .dataframe thead th {\n",
              "        text-align: right;\n",
              "    }\n",
              "</style>\n",
              "<table border=\"1\" class=\"dataframe\">\n",
              "  <thead>\n",
              "    <tr style=\"text-align: right;\">\n",
              "      <th></th>\n",
              "      <th>prediction</th>\n",
              "    </tr>\n",
              "  </thead>\n",
              "  <tbody>\n",
              "    <tr>\n",
              "      <th>0</th>\n",
              "      <td>1.0</td>\n",
              "    </tr>\n",
              "    <tr>\n",
              "      <th>1</th>\n",
              "      <td>1.0</td>\n",
              "    </tr>\n",
              "    <tr>\n",
              "      <th>2</th>\n",
              "      <td>1.0</td>\n",
              "    </tr>\n",
              "    <tr>\n",
              "      <th>3</th>\n",
              "      <td>0.0</td>\n",
              "    </tr>\n",
              "    <tr>\n",
              "      <th>4</th>\n",
              "      <td>1.0</td>\n",
              "    </tr>\n",
              "    <tr>\n",
              "      <th>...</th>\n",
              "      <td>...</td>\n",
              "    </tr>\n",
              "    <tr>\n",
              "      <th>2162</th>\n",
              "      <td>0.0</td>\n",
              "    </tr>\n",
              "    <tr>\n",
              "      <th>2163</th>\n",
              "      <td>0.0</td>\n",
              "    </tr>\n",
              "    <tr>\n",
              "      <th>2164</th>\n",
              "      <td>0.0</td>\n",
              "    </tr>\n",
              "    <tr>\n",
              "      <th>2165</th>\n",
              "      <td>1.0</td>\n",
              "    </tr>\n",
              "    <tr>\n",
              "      <th>2166</th>\n",
              "      <td>0.0</td>\n",
              "    </tr>\n",
              "  </tbody>\n",
              "</table>\n",
              "<p>2167 rows × 1 columns</p>\n",
              "</div>"
            ],
            "text/plain": [
              "      prediction\n",
              "0            1.0\n",
              "1            1.0\n",
              "2            1.0\n",
              "3            0.0\n",
              "4            1.0\n",
              "...          ...\n",
              "2162         0.0\n",
              "2163         0.0\n",
              "2164         0.0\n",
              "2165         1.0\n",
              "2166         0.0\n",
              "\n",
              "[2167 rows x 1 columns]"
            ]
          },
          "metadata": {
            "tags": []
          },
          "execution_count": 68
        }
      ]
    },
    {
      "cell_type": "markdown",
      "metadata": {
        "id": "xIeEDQBYVEZU"
      },
      "source": [
        "### Single Layer Perceptron"
      ]
    },
    {
      "cell_type": "code",
      "metadata": {
        "id": "2E0uGxbo0rQB"
      },
      "source": [
        "#On test\n",
        "slp_pred_test = slp_clf.predict(test_set)"
      ],
      "execution_count": null,
      "outputs": []
    },
    {
      "cell_type": "code",
      "metadata": {
        "colab": {
          "base_uri": "https://localhost:8080/"
        },
        "id": "aNq6Bz8O30vM",
        "outputId": "17053faf-d905-4610-b256-39ddb3982e23"
      },
      "source": [
        "#metrics.accuracy_score(slp_pred_test,sample_predictions)"
      ],
      "execution_count": null,
      "outputs": [
        {
          "output_type": "execute_result",
          "data": {
            "text/plain": [
              "0.49561605906783573"
            ]
          },
          "metadata": {
            "tags": []
          },
          "execution_count": 119
        }
      ]
    },
    {
      "cell_type": "code",
      "metadata": {
        "colab": {
          "base_uri": "https://localhost:8080/",
          "height": 388
        },
        "id": "b4R06ud-U5ER",
        "outputId": "dc3b0ce8-b68b-4bf5-d2c0-191f39b8655e"
      },
      "source": [
        "predictions2 = pd.DataFrame(slp_pred_test, columns=['prediction'])\n",
        "predictions2"
      ],
      "execution_count": null,
      "outputs": [
        {
          "output_type": "execute_result",
          "data": {
            "text/html": [
              "<div>\n",
              "<style scoped>\n",
              "    .dataframe tbody tr th:only-of-type {\n",
              "        vertical-align: middle;\n",
              "    }\n",
              "\n",
              "    .dataframe tbody tr th {\n",
              "        vertical-align: top;\n",
              "    }\n",
              "\n",
              "    .dataframe thead th {\n",
              "        text-align: right;\n",
              "    }\n",
              "</style>\n",
              "<table border=\"1\" class=\"dataframe\">\n",
              "  <thead>\n",
              "    <tr style=\"text-align: right;\">\n",
              "      <th></th>\n",
              "      <th>prediction</th>\n",
              "    </tr>\n",
              "  </thead>\n",
              "  <tbody>\n",
              "    <tr>\n",
              "      <th>0</th>\n",
              "      <td>1.0</td>\n",
              "    </tr>\n",
              "    <tr>\n",
              "      <th>1</th>\n",
              "      <td>0.0</td>\n",
              "    </tr>\n",
              "    <tr>\n",
              "      <th>2</th>\n",
              "      <td>1.0</td>\n",
              "    </tr>\n",
              "    <tr>\n",
              "      <th>3</th>\n",
              "      <td>0.0</td>\n",
              "    </tr>\n",
              "    <tr>\n",
              "      <th>4</th>\n",
              "      <td>1.0</td>\n",
              "    </tr>\n",
              "    <tr>\n",
              "      <th>...</th>\n",
              "      <td>...</td>\n",
              "    </tr>\n",
              "    <tr>\n",
              "      <th>2162</th>\n",
              "      <td>0.0</td>\n",
              "    </tr>\n",
              "    <tr>\n",
              "      <th>2163</th>\n",
              "      <td>0.0</td>\n",
              "    </tr>\n",
              "    <tr>\n",
              "      <th>2164</th>\n",
              "      <td>0.0</td>\n",
              "    </tr>\n",
              "    <tr>\n",
              "      <th>2165</th>\n",
              "      <td>1.0</td>\n",
              "    </tr>\n",
              "    <tr>\n",
              "      <th>2166</th>\n",
              "      <td>0.0</td>\n",
              "    </tr>\n",
              "  </tbody>\n",
              "</table>\n",
              "<p>2167 rows × 1 columns</p>\n",
              "</div>"
            ],
            "text/plain": [
              "      prediction\n",
              "0            1.0\n",
              "1            0.0\n",
              "2            1.0\n",
              "3            0.0\n",
              "4            1.0\n",
              "...          ...\n",
              "2162         0.0\n",
              "2163         0.0\n",
              "2164         0.0\n",
              "2165         1.0\n",
              "2166         0.0\n",
              "\n",
              "[2167 rows x 1 columns]"
            ]
          },
          "metadata": {
            "tags": []
          },
          "execution_count": 70
        }
      ]
    },
    {
      "cell_type": "markdown",
      "metadata": {
        "id": "sxivcvcgVAKV"
      },
      "source": [
        "### Multi Layer Perceptron"
      ]
    },
    {
      "cell_type": "code",
      "metadata": {
        "id": "g0k3ePWT1BKl"
      },
      "source": [
        "#On test\n",
        "mlp_pred_test = mlp_clf.predict(test_set)"
      ],
      "execution_count": null,
      "outputs": []
    },
    {
      "cell_type": "code",
      "metadata": {
        "colab": {
          "base_uri": "https://localhost:8080/"
        },
        "id": "BWSN1Pxa1hJ-",
        "outputId": "2e49f8fa-1b0f-4f1e-afec-f0b9b24d6425"
      },
      "source": [
        "#metrics.accuracy_score(mlp_pred_test,sample_predictions)"
      ],
      "execution_count": null,
      "outputs": [
        {
          "output_type": "execute_result",
          "data": {
            "text/plain": [
              "0.4946931241347485"
            ]
          },
          "metadata": {
            "tags": []
          },
          "execution_count": 122
        }
      ]
    },
    {
      "cell_type": "code",
      "metadata": {
        "colab": {
          "base_uri": "https://localhost:8080/",
          "height": 388
        },
        "id": "AyES8ZfU1CeF",
        "outputId": "f9c7c723-4480-4221-b36a-5f2a4ae12cd3"
      },
      "source": [
        "#predictions\n",
        "predictions3 = pd.DataFrame(mlp_pred_test, columns=['predictions'])\n",
        "predictions3"
      ],
      "execution_count": null,
      "outputs": [
        {
          "output_type": "execute_result",
          "data": {
            "text/html": [
              "<div>\n",
              "<style scoped>\n",
              "    .dataframe tbody tr th:only-of-type {\n",
              "        vertical-align: middle;\n",
              "    }\n",
              "\n",
              "    .dataframe tbody tr th {\n",
              "        vertical-align: top;\n",
              "    }\n",
              "\n",
              "    .dataframe thead th {\n",
              "        text-align: right;\n",
              "    }\n",
              "</style>\n",
              "<table border=\"1\" class=\"dataframe\">\n",
              "  <thead>\n",
              "    <tr style=\"text-align: right;\">\n",
              "      <th></th>\n",
              "      <th>predictions</th>\n",
              "    </tr>\n",
              "  </thead>\n",
              "  <tbody>\n",
              "    <tr>\n",
              "      <th>0</th>\n",
              "      <td>1.0</td>\n",
              "    </tr>\n",
              "    <tr>\n",
              "      <th>1</th>\n",
              "      <td>1.0</td>\n",
              "    </tr>\n",
              "    <tr>\n",
              "      <th>2</th>\n",
              "      <td>1.0</td>\n",
              "    </tr>\n",
              "    <tr>\n",
              "      <th>3</th>\n",
              "      <td>0.0</td>\n",
              "    </tr>\n",
              "    <tr>\n",
              "      <th>4</th>\n",
              "      <td>1.0</td>\n",
              "    </tr>\n",
              "    <tr>\n",
              "      <th>...</th>\n",
              "      <td>...</td>\n",
              "    </tr>\n",
              "    <tr>\n",
              "      <th>2162</th>\n",
              "      <td>0.0</td>\n",
              "    </tr>\n",
              "    <tr>\n",
              "      <th>2163</th>\n",
              "      <td>0.0</td>\n",
              "    </tr>\n",
              "    <tr>\n",
              "      <th>2164</th>\n",
              "      <td>0.0</td>\n",
              "    </tr>\n",
              "    <tr>\n",
              "      <th>2165</th>\n",
              "      <td>1.0</td>\n",
              "    </tr>\n",
              "    <tr>\n",
              "      <th>2166</th>\n",
              "      <td>0.0</td>\n",
              "    </tr>\n",
              "  </tbody>\n",
              "</table>\n",
              "<p>2167 rows × 1 columns</p>\n",
              "</div>"
            ],
            "text/plain": [
              "      predictions\n",
              "0             1.0\n",
              "1             1.0\n",
              "2             1.0\n",
              "3             0.0\n",
              "4             1.0\n",
              "...           ...\n",
              "2162          0.0\n",
              "2163          0.0\n",
              "2164          0.0\n",
              "2165          1.0\n",
              "2166          0.0\n",
              "\n",
              "[2167 rows x 1 columns]"
            ]
          },
          "metadata": {
            "tags": []
          },
          "execution_count": 26
        }
      ]
    },
    {
      "cell_type": "code",
      "metadata": {
        "id": "Fl_iYsxcKQ9r"
      },
      "source": [
        "#saving predictions to file\n",
        "predictions3.to_csv('predictions.csv', index=False)\n",
        "!cp predictions.csv '/content/drive/MyDrive/University/Year-2/ML Notebooks/Assignment/'"
      ],
      "execution_count": null,
      "outputs": []
    },
    {
      "cell_type": "markdown",
      "metadata": {
        "id": "nlm4W7Y7-eYz"
      },
      "source": [
        "## Testing and Experimenting"
      ]
    },
    {
      "cell_type": "markdown",
      "metadata": {
        "id": "ePNo8mIwUHcd"
      },
      "source": [
        "### Principle Component Analysis\n",
        "For first training data set"
      ]
    },
    {
      "cell_type": "code",
      "metadata": {
        "colab": {
          "base_uri": "https://localhost:8080/"
        },
        "id": "bbUMnpsAU1QO",
        "outputId": "97d37e6f-adb3-4e13-cb8e-5d18cd596164"
      },
      "source": [
        "pca = PCA(n_components=3).fit(train_set2)\n",
        "pca.fit(train_set2)"
      ],
      "execution_count": null,
      "outputs": [
        {
          "output_type": "execute_result",
          "data": {
            "text/plain": [
              "PCA(n_components=3)"
            ]
          },
          "metadata": {
            "tags": []
          },
          "execution_count": 64
        }
      ]
    },
    {
      "cell_type": "code",
      "metadata": {
        "colab": {
          "base_uri": "https://localhost:8080/",
          "height": 298
        },
        "id": "_mIrPIHZ1ZHk",
        "outputId": "ea7b5282-7828-41dc-a577-59fcd92f5979"
      },
      "source": [
        "C = np.cov(train_set2.T) # covariance matrix of the normalised data\n",
        "[lambda_arr,U] = linalg.eig(C) # array of lambda (eigenvalues) and U (eigenvector matrix)\n",
        "largest_eig_idx = np.where(lambda_arr==max(lambda_arr))[0] #index of largest eigenvalue\n",
        "train_reduced = np.dot(train_set2,U[:,largest_eig_idx]); #matrix vector multiplication - dot product\n",
        "plt.scatter(train_reduced,np.zeros((len(train_reduced),1)),c='k'); # in black\n",
        "plt.show()"
      ],
      "execution_count": null,
      "outputs": [
        {
          "output_type": "stream",
          "text": [
            "/usr/local/lib/python3.7/dist-packages/numpy/core/_asarray.py:136: ComplexWarning: Casting complex values to real discards the imaginary part\n",
            "  return array(a, dtype, copy=False, order=order, subok=True)\n"
          ],
          "name": "stderr"
        },
        {
          "output_type": "display_data",
          "data": {
            "image/png": "[encoded data removed]",
            "text/plain": [
              "<Figure size 432x288 with 1 Axes>"
            ]
          },
          "metadata": {
            "tags": [],
            "needs_background": "light"
          }
        }
      ]
    },
    {
      "cell_type": "code",
      "metadata": {
        "id": "xCnC5XNZvLEC"
      },
      "source": [
        "smaller_eig_idx = np.where(lambda_arr==min(lambda_arr))[0] # Find index of the smaller eigenvalue\n",
        "train_PC2 = np.dot(train_set2,U[:,smaller_eig_idx]) # Extract component in direction of eigenvector with smaller eigenvalue"
      ],
      "execution_count": null,
      "outputs": []
    },
    {
      "cell_type": "code",
      "metadata": {
        "colab": {
          "base_uri": "https://localhost:8080/",
          "height": 309
        },
        "id": "n5S8IR5T2RwX",
        "outputId": "5f2a2ad2-3182-4bb5-bc00-664ec5753dad"
      },
      "source": [
        "plt.scatter(train_reduced,train_PC2,c='k'); # in black\n",
        "plt.show()"
      ],
      "execution_count": null,
      "outputs": [
        {
          "output_type": "stream",
          "text": [
            "/usr/local/lib/python3.7/dist-packages/numpy/core/_asarray.py:136: ComplexWarning: Casting complex values to real discards the imaginary part\n",
            "  return array(a, dtype, copy=False, order=order, subok=True)\n"
          ],
          "name": "stderr"
        },
        {
          "output_type": "display_data",
          "data": {
            "image/png": "[encoded data removed]",
            "text/plain": [
              "<Figure size 432x288 with 1 Axes>"
            ]
          },
          "metadata": {
            "tags": [],
            "needs_background": "light"
          }
        }
      ]
    },
    {
      "cell_type": "code",
      "metadata": {
        "colab": {
          "base_uri": "https://localhost:8080/"
        },
        "id": "uiLBgQNM26wX",
        "outputId": "4e38394a-7e11-4f0d-86f1-1ec2cf07e0d8"
      },
      "source": [
        "train_reduced.shape"
      ],
      "execution_count": null,
      "outputs": [
        {
          "output_type": "execute_result",
          "data": {
            "text/plain": [
              "(2711, 1)"
            ]
          },
          "metadata": {
            "tags": []
          },
          "execution_count": 44
        }
      ]
    },
    {
      "cell_type": "code",
      "metadata": {
        "colab": {
          "base_uri": "https://localhost:8080/"
        },
        "id": "_JRnO5GrUp5h",
        "outputId": "8a0ab9a2-460d-4701-edf5-57e45e0ab642"
      },
      "source": [
        "pca = PCA(n_components=3, copy=False, whiten=False, svd_solver='auto')\n",
        "pca.fit(train_set2)"
      ],
      "execution_count": null,
      "outputs": [
        {
          "output_type": "execute_result",
          "data": {
            "text/plain": [
              "PCA(copy=False, n_components=3)"
            ]
          },
          "metadata": {
            "tags": []
          },
          "execution_count": 136
        }
      ]
    },
    {
      "cell_type": "code",
      "metadata": {
        "id": "zjfb3_jsEFjZ"
      },
      "source": [
        "from sklearn.pipeline import Pipeline\n",
        "from sklearn.feature_selection import SelectFromModel\n",
        "from sklearn.ensemble import ExtraTreesClassifier\n",
        "from sklearn.svm import LinearSVC\n",
        "from sklearn.svm import SVC\n",
        "from sklearn.linear_model import Perceptron\n",
        "mlp_clf = Pipeline([\n",
        "  ('feature_selection', SelectFromModel(ExtraTreesClassifier(n_estimators=50))),\n",
        "  ('classification', MLPClassifier(activation='logistic',solver='sgd',learning_rate='invscaling', hidden_layer_sizes=(500), shuffle=True,\n",
        "                    learning_rate_init=0.5,random_state = 2, momentum=0.6, nesterovs_momentum=False, max_iter=1000,beta_1 =0.9, beta_2 = 0.999, epsilon = 1e-8))\n",
        "])\n",
        "mlp_clf.fit(train_d, train_labels)\n",
        "\n",
        "pred_class2 = mlp_clf.predict(train_val)\n",
        "\n",
        "#print('Process completed in %d epochs' % mlp_clf.n_iter_)\n",
        "print('Classification accuracy = %d' % accuracy_score(val_labels, pred_class2, normalize=False))\n",
        "print(confusion_matrix(val_labels,pred_class2)) # Confusion matrix"
      ],
      "execution_count": null,
      "outputs": []
    },
    {
      "cell_type": "markdown",
      "metadata": {
        "id": "5U4W75tk4HPy"
      },
      "source": [
        "### KNN Imputation"
      ]
    },
    {
      "cell_type": "code",
      "metadata": {
        "id": "rT2-8vto4GT2"
      },
      "source": [
        "imputer = KNNImputer(missing_values=np.nan)\n",
        "\n",
        "imputer.fit(gist_data)\n",
        "gist_data1 = imputer.transform(gist_data)\n",
        "\n",
        "imputer.fit(cnn_data)\n",
        "cnn_data1 = imputer.transform(cnn_data)\n",
        "\n",
        "imputer.fit(test_data)\n",
        "test_data1 = imputer.transform(test_data)\n"
      ],
      "execution_count": null,
      "outputs": []
    },
    {
      "cell_type": "markdown",
      "metadata": {
        "id": "MOa0R1f-MNBO"
      },
      "source": [
        "### Training Set"
      ]
    },
    {
      "cell_type": "code",
      "metadata": {
        "colab": {
          "base_uri": "https://localhost:8080/"
        },
        "id": "MTXdaK-Wp_92",
        "outputId": "cf5dd288-c290-4ad8-83b1-d61a1d9820ed"
      },
      "source": [
        "#1st parameters worse than logistic regression\n",
        "slp_clf = Perceptron(penalty=None, alpha=0.0001, fit_intercept=True, max_iter=1000, tol=0.001, shuffle=False, verbose=0, eta0=1.0, n_jobs=None, \n",
        "                     random_state=0, early_stopping=False, validation_fraction=0.2, n_iter_no_change=5, class_weight='balanced') \n",
        "\n",
        "slp_clf.fit(train_d,train_labels)"
      ],
      "execution_count": null,
      "outputs": [
        {
          "output_type": "execute_result",
          "data": {
            "text/plain": [
              "Perceptron(class_weight='balanced', shuffle=False, validation_fraction=0.2)"
            ]
          },
          "metadata": {
            "tags": []
          },
          "execution_count": 114
        }
      ]
    },
    {
      "cell_type": "code",
      "metadata": {
        "colab": {
          "base_uri": "https://localhost:8080/"
        },
        "id": "F3u7kPy7q-tO",
        "outputId": "5558ef39-cbb0-478e-85e4-661a7df058e3"
      },
      "source": [
        "#2nd parameters - significantly better\n",
        "slp_clf = Perceptron(penalty=None, alpha=0.2, fit_intercept=True, max_iter=500, tol=0.2, shuffle=False, verbose=0, eta0=2.0, n_jobs=None, \n",
        "                     random_state=None, early_stopping=False, validation_fraction=0.25, n_iter_no_change=5, class_weight='balanced') \n",
        "slp_clf.fit(train_d,train_labels)"
      ],
      "execution_count": null,
      "outputs": [
        {
          "output_type": "execute_result",
          "data": {
            "text/plain": [
              "Perceptron(alpha=0.2, class_weight='balanced', eta0=2.0, max_iter=500,\n",
              "           random_state=None, shuffle=False, tol=0.2, validation_fraction=0.25)"
            ]
          },
          "metadata": {
            "tags": []
          },
          "execution_count": 124
        }
      ]
    },
    {
      "cell_type": "code",
      "metadata": {
        "id": "_IiGoxtQsNKU"
      },
      "source": [
        "#3rd paramerts - best so far - 70 accuracy\n",
        "slp_clf = Perceptron(penalty='elasticnet', alpha=0.05, fit_intercept=True, max_iter=500, tol=0.05, shuffle=False, verbose=1, eta0=2.0, n_jobs=None, \n",
        "                     random_state=None, early_stopping=False, validation_fraction=0.25, n_iter_no_change=5, class_weight='balanced') \n",
        "\n",
        "slp_clf.fit(train_d,train_lables)"
      ],
      "execution_count": null,
      "outputs": []
    },
    {
      "cell_type": "code",
      "metadata": {
        "id": "BURCp4z0IS70"
      },
      "source": [
        "\n",
        "slp_clf = Perceptron(penalty='elasticnet', alpha=0.005, fit_intercept=True, max_iter=500, tol=0.005, shuffle=False, verbose=1, eta0=1.0, n_jobs=None, \n",
        "                     random_state=None, early_stopping=False, validation_fraction=0.25, n_iter_no_change=5, class_weight='balanced') \n",
        "\n",
        "slp_clf.fit(train_d,train_labels)"
      ],
      "execution_count": null,
      "outputs": []
    },
    {
      "cell_type": "code",
      "metadata": {
        "id": "lsU0f4_0U5AP"
      },
      "source": [
        "train_set3 = pca.transform(train_set2)"
      ],
      "execution_count": null,
      "outputs": []
    },
    {
      "cell_type": "markdown",
      "metadata": {
        "id": "ziCypssdGB-m"
      },
      "source": [
        "### Plotting first training data "
      ]
    },
    {
      "cell_type": "code",
      "metadata": {
        "id": "ijKJZmNBjgtj"
      },
      "source": [
        "train_reduced, train_lables = shuffle(train_reduced, train_lables)"
      ],
      "execution_count": null,
      "outputs": []
    },
    {
      "cell_type": "code",
      "metadata": {
        "id": "F8ORVyrUjjLu"
      },
      "source": [
        "plt.figure(1)\n",
        "\n",
        "plt.scatter(train_reduced[train_lables == 0, 0], train_reduced[train_lables ==0 , 1],c='red',s=6)\n",
        "plt.scatter(train_reduced[train_lables == 1, 0], train_reduced[train_lables ==1 , 1],c='blue',s=6)"
      ],
      "execution_count": null,
      "outputs": []
    },
    {
      "cell_type": "markdown",
      "metadata": {
        "id": "lYeXQWwmKE3q"
      },
      "source": [
        "Validation Data"
      ]
    },
    {
      "cell_type": "code",
      "metadata": {
        "id": "bfyGAgFHKBdm"
      },
      "source": [
        "#Validation Set Number 2\n",
        "nbpts = 76.875 # Number of points in each class (vary to explore effect of number of points)\n",
        "\n",
        "# Assign class labels.\n",
        "classes = np.concatenate([np.zeros(nbpts,dtype=int),np.ones(nbpts,dtype=int)]) #integers\n",
        "\n",
        "val_norm1, classes = shuffle(val_norm1,classes)"
      ],
      "execution_count": null,
      "outputs": []
    },
    {
      "cell_type": "code",
      "metadata": {
        "id": "4XF_cbHOKEH-"
      },
      "source": [
        " plt.figure(1)\n",
        "\n",
        "plt.scatter(val_norm1.iloc[classes == 0, 0], val_norm1.iloc[classes ==0 , 1],c='red',s=6)\n",
        "plt.scatter(val_norm1.iloc[classes == 1, 0], val_norm1.iloc[classes ==1 , 1],c='blue',s=6)"
      ],
      "execution_count": null,
      "outputs": []
    },
    {
      "cell_type": "code",
      "metadata": {
        "id": "ZS-C-WGXshlO"
      },
      "source": [
        "#4th parameters a bit better 71 accuracy\n",
        "slp_clf = Perceptron(penalty='elasticnet', alpha=0.005, fit_intercept=True, max_iter=500, tol=0.005, shuffle=False, verbose=1, eta0=1.0, n_jobs=None, \n",
        "                     random_state=None, early_stopping=False, validation_fraction=0.25, n_iter_no_change=5, class_weight='balanced') \n",
        "\n",
        "slp_clf.fit(train_d,train_lables)"
      ],
      "execution_count": null,
      "outputs": []
    },
    {
      "cell_type": "markdown",
      "metadata": {
        "id": "tnKYAqbvGGGb"
      },
      "source": [
        "### Plotting second training data set"
      ]
    },
    {
      "cell_type": "code",
      "metadata": {
        "id": "QafCE2YHsGDv"
      },
      "source": [
        "#Training Set Number 25 # Number of points in each class (vary to explore effect of number of points)\n",
        "\n",
        "# Assign class labels.\n",
        "classes = np.concatenate(train_lables,train_confidence) #integers\n",
        "\n",
        "train_reduced, classes = shuffle(train_norm2,classes)"
      ],
      "execution_count": null,
      "outputs": []
    },
    {
      "cell_type": "code",
      "metadata": {
        "colab": {
          "base_uri": "https://localhost:8080/",
          "height": 282
        },
        "id": "9UqdtiKFrYvy",
        "outputId": "8d5d1759-9818-457a-88c0-09cc5b3b249d"
      },
      "source": [
        " plt.figure(1)\n",
        "\n",
        "plt.scatter(train_reduced.iloc[classes == 0, 0], train_reduced.iloc[classes ==0 , 1],c='red',s=6)\n",
        "plt.scatter(train_reduced.iloc[classes == 1, 0], train_reduced.iloc[classes ==1 , 1],c='blue',s=6)"
      ],
      "execution_count": null,
      "outputs": [
        {
          "output_type": "execute_result",
          "data": {
            "text/plain": [
              "<matplotlib.collections.PathCollection at 0x7fbfcc203bd0>"
            ]
          },
          "metadata": {
            "tags": []
          },
          "execution_count": 20
        },
        {
          "output_type": "display_data",
          "data": {
            "image/png": "[encoded data removed]",
            "text/plain": [
              "<Figure size 432x288 with 1 Axes>"
            ]
          },
          "metadata": {
            "tags": [],
            "needs_background": "light"
          }
        }
      ]
    },
    {
      "cell_type": "markdown",
      "metadata": {
        "id": "zfT3CWadJwCB"
      },
      "source": [
        "Validation Data"
      ]
    },
    {
      "cell_type": "code",
      "metadata": {
        "id": "RwQMipTaJvl5"
      },
      "source": [
        "#Validation Set Number 2\n",
        "nbpts = 375 # Number of points in each class (vary to explore effect of number of points)\n",
        "\n",
        "# Assign class labels.\n",
        "classes = np.concatenate([np.zeros(nbpts,dtype=int),np.ones(nbpts,dtype=int)]) #integers\n",
        "\n",
        "val_norm2, classes = shuffle(val_norm2,classes)"
      ],
      "execution_count": null,
      "outputs": []
    },
    {
      "cell_type": "code",
      "metadata": {
        "colab": {
          "base_uri": "https://localhost:8080/",
          "height": 282
        },
        "id": "WrWjECK3J6rk",
        "outputId": "3c358b67-9af2-49c4-bf4c-165b62dcb749"
      },
      "source": [
        " plt.figure(1)\n",
        "\n",
        "plt.scatter(val_norm2.iloc[classes == 0, 0], val_norm2.iloc[classes ==0 , 1],c='red',s=6)\n",
        "plt.scatter(val_norm2.iloc[classes == 1, 0], val_norm2.iloc[classes ==1 , 1],c='blue',s=6)"
      ],
      "execution_count": null,
      "outputs": [
        {
          "output_type": "execute_result",
          "data": {
            "text/plain": [
              "<matplotlib.collections.PathCollection at 0x7fbfcc4d25d0>"
            ]
          },
          "metadata": {
            "tags": []
          },
          "execution_count": 22
        },
        {
          "output_type": "display_data",
          "data": {
            "image/png": "[encoded data removed]",
            "text/plain": [
              "<Figure size 432x288 with 1 Axes>"
            ]
          },
          "metadata": {
            "tags": [],
            "needs_background": "light"
          }
        }
      ]
    },
    {
      "cell_type": "markdown",
      "metadata": {
        "id": "y2G6RUXqJgpx"
      },
      "source": [
        "### Plotting test set"
      ]
    },
    {
      "cell_type": "code",
      "metadata": {
        "id": "mphqzqwMnk_s"
      },
      "source": [
        "#Test Set\n",
        "nbpts = 1083.5 # Number of points in each class (vary to explore effect of number of points)\n",
        "\n",
        "# Assign class labels.\n",
        "classes = np.concatenate([np.zeros(nbpts,dtype=int),np.ones(nbpts,dtype=int)]) #integers\n",
        "\n",
        "test_norm, classes = shuffle(test_norm,classes)"
      ],
      "execution_count": null,
      "outputs": []
    },
    {
      "cell_type": "markdown",
      "metadata": {
        "id": "MTYSwJMKKRd3"
      },
      "source": [
        "### Test SLP"
      ]
    },
    {
      "cell_type": "code",
      "metadata": {
        "id": "9M4BLYscKTL0"
      },
      "source": [
        "#73 again\n",
        "slp_clf = Perceptron(penalty='elasticnet', alpha=0.05,l1_ratio=0.15, fit_intercept=False, max_iter = 200, tol=0.005, shuffle=False, verbose=2, eta0=1.0, n_jobs=None, \n",
        "                     random_state=None, early_stopping=True, validation_fraction=0.2, n_iter_no_change=4, class_weight='balanced') \n",
        "\n",
        "slp_clf.fit(train_d,train_labels)"
      ],
      "execution_count": null,
      "outputs": []
    },
    {
      "cell_type": "code",
      "metadata": {
        "id": "G4wCcWZlKYKF"
      },
      "source": [
        "#73 again\n",
        "slp_clf = Perceptron(penalty='elasticnet', alpha=0.005,l1_ratio=0.15, fit_intercept=False, max_iter=400, tol=0.005, shuffle=False, verbose=1, eta0=1.0, n_jobs=None, \n",
        "                     random_state=None, early_stopping=True, validation_fraction=0.2, n_iter_no_change=2, class_weight='balanced') \n",
        "\n",
        "slp_clf.fit(train_d,train_labels)"
      ],
      "execution_count": null,
      "outputs": []
    },
    {
      "cell_type": "markdown",
      "metadata": {
        "id": "bDOdhxgxJivH"
      },
      "source": [
        "### Test MLP"
      ]
    },
    {
      "cell_type": "code",
      "metadata": {
        "id": "z0OocRKQyQYY"
      },
      "source": [
        "from sklearn.metrics import precision_recall_curve\n",
        "from sklearn.metrics import plot_precision_recall_curve\n",
        "import matplotlib.pyplot as plt\n",
        "\n",
        "disp = plot_precision_recall_curve(mlp_clf,pred_class2,val_labels)\n",
        "disp.ax_.set_title('2-class Precision-Recall curve: '\n",
        "                   'AP={0:0.2f}'.format(average_precision))"
      ],
      "execution_count": null,
      "outputs": []
    },
    {
      "cell_type": "code",
      "metadata": {
        "colab": {
          "base_uri": "https://localhost:8080/"
        },
        "id": "GPGMph7b3cmv",
        "outputId": "9e87483f-2d25-4faf-ead1-0c62a6a3955a"
      },
      "source": [
        "#The 2nd best\n",
        "mlp_clf = MLPClassifier(activation='logistic',solver='sgd',learning_rate='invscaling', hidden_layer_sizes=(100), shuffle=True,\n",
        "                    learning_rate_init=0.6,random_state = None, momentum=0.8, nesterovs_momentum=False, max_iter=200,beta_1 =0.9, beta_2 = 0.9, epsilon = 1e-8)\n",
        "\n",
        "mlp_clf.fit(train_d,train_labels) \n",
        "pred_class2 = mlp_clf.predict(train_val) # Prediction after learning\n",
        "\n",
        "print('Process completed in %d epochs' % mlp_clf.n_iter_)\n",
        "print('Classification accuracy = %d' % accuracy_score(val_labels, pred_class2, normalize=False))\n",
        "print(confusion_matrix(val_labels,pred_class2)) # Confusion matrix"
      ],
      "execution_count": null,
      "outputs": [
        {
          "output_type": "stream",
          "text": [
            "Process completed in 200 epochs\n",
            "Classification accuracy = 541\n",
            "[[296  98]\n",
            " [ 84 245]]\n"
          ],
          "name": "stdout"
        },
        {
          "output_type": "stream",
          "text": [
            "/usr/local/lib/python3.7/dist-packages/sklearn/neural_network/_multilayer_perceptron.py:617: ConvergenceWarning: Stochastic Optimizer: Maximum iterations (200) reached and the optimization hasn't converged yet.\n",
            "  % self.max_iter, ConvergenceWarning)\n"
          ],
          "name": "stderr"
        }
      ]
    },
    {
      "cell_type": "code",
      "metadata": {
        "colab": {
          "base_uri": "https://localhost:8080/"
        },
        "id": "U37YFvqUK281",
        "outputId": "7fe40ec9-2e50-4875-f37f-823fe30a87ab"
      },
      "source": [
        "mlp_clf = MLPClassifier(activation='logistic',solver='sgd',learning_rate='invscaling', hidden_layer_sizes=(125), shuffle=True,\n",
        "                    learning_rate_init=0.5,random_state = 2, momentum=0.6, nesterovs_momentum=False, max_iter=200) #beta_1 =0.9, beta_2 = 0.999, epsilon = 1e-8)\n",
        "\n",
        "mlp_clf.fit(train_d,train_labels) \n",
        "pred_class2 = mlp_clf.predict(train_val) # Prediction after learning\n",
        "\n",
        "print('Process completed in %d epochs' % mlp_clf.n_iter_)\n",
        "print('Classification accuracy = %d' % accuracy_score(val_labels, pred_class2, normalize=False))\n",
        "print(confusion_matrix(val_labels,pred_class2)) # Confusion matrix"
      ],
      "execution_count": null,
      "outputs": [
        {
          "output_type": "stream",
          "text": [
            "Process completed in 200 epochs\n",
            "Classification accuracy = 544\n",
            "[[294 100]\n",
            " [ 79 250]]\n"
          ],
          "name": "stdout"
        },
        {
          "output_type": "stream",
          "text": [
            "/usr/local/lib/python3.7/dist-packages/sklearn/neural_network/_multilayer_perceptron.py:617: ConvergenceWarning: Stochastic Optimizer: Maximum iterations (200) reached and the optimization hasn't converged yet.\n",
            "  % self.max_iter, ConvergenceWarning)\n"
          ],
          "name": "stderr"
        }
      ]
    },
    {
      "cell_type": "code",
      "metadata": {
        "colab": {
          "base_uri": "https://localhost:8080/"
        },
        "id": "80GBRhaD3XP0",
        "outputId": "aa63ff1c-5a7b-4734-d60a-77dc7d753dea"
      },
      "source": [
        "#even better - second best 0.74\n",
        "mlp_clf = MLPClassifier(activation='logistic',solver='sgd',learning_rate='invscaling', hidden_layer_sizes=(100), shuffle=True,\n",
        "                    learning_rate_init=0.8,random_state = None, momentum=0.9, nesterovs_momentum=False, max_iter=200,beta_1 =0.8, beta_2 = 0.9, epsilon = 1e-8)\n",
        "\n",
        "mlp_clf.fit(train_d,train_labels) \n",
        "pred_class2 = mlp_clf.predict(train_val) # Prediction after learning\n",
        "\n",
        "print('Process completed in %d epochs' % mlp_clf.n_iter_)\n",
        "print('Classification accuracy = %d' % accuracy_score(val_labels, pred_class2, normalize=False))\n",
        "print(confusion_matrix(val_labels,pred_class2)) # Confusion matrix"
      ],
      "execution_count": null,
      "outputs": [
        {
          "output_type": "stream",
          "text": [
            "Process completed in 200 epochs\n",
            "Classification accuracy = 536\n",
            "[[292 102]\n",
            " [ 85 244]]\n"
          ],
          "name": "stdout"
        },
        {
          "output_type": "stream",
          "text": [
            "/usr/local/lib/python3.7/dist-packages/sklearn/neural_network/_multilayer_perceptron.py:617: ConvergenceWarning: Stochastic Optimizer: Maximum iterations (200) reached and the optimization hasn't converged yet.\n",
            "  % self.max_iter, ConvergenceWarning)\n"
          ],
          "name": "stderr"
        }
      ]
    },
    {
      "cell_type": "code",
      "metadata": {
        "id": "sDsu7lWjoH4j",
        "colab": {
          "base_uri": "https://localhost:8080/"
        },
        "outputId": "a7324290-4703-4c08-a725-1e8c1a26af3f"
      },
      "source": [
        " mlp_clf = MLPClassifier(activation='relu',solver='sgd',batch_size = 'auto',learning_rate='constant', hidden_layer_sizes=(25), shuffle=True,\n",
        "                    learning_rate_init=0.5, momentum=0.9, nesterovs_momentum=True, max_iter=1000)\n",
        "\n",
        "epochs=np.zeros(10)\n",
        "accuracy=np.zeros(10)\n",
        "for i in range(10):\n",
        "\n",
        "    mlp_clf.fit(train_d,train_labels) \n",
        "    pred_class2 =  mlp_clf.predict(train_val) # Prediction after learning\n",
        "    epochs[i]= mlp_clf.n_iter_\n",
        "    accuracy[i]=accuracy_score(val_labels, pred_class2, normalize=False)\n",
        "\n",
        "    \n",
        "print('Mean epochs =%d' % np.mean(epochs))\n",
        "print('Std dev epochs =%d' % np.std(epochs))\n",
        "print('Mean accuracy=%d' % np.mean(accuracy))\n",
        "print('Std dev accuracy =%d' % np.std(accuracy))\n"
      ],
      "execution_count": null,
      "outputs": [
        {
          "output_type": "stream",
          "text": [
            "Mean epochs =12\n",
            "Std dev epochs =0\n",
            "Mean accuracy=288\n",
            "Std dev accuracy =79\n"
          ],
          "name": "stdout"
        }
      ]
    },
    {
      "cell_type": "code",
      "metadata": {
        "colab": {
          "base_uri": "https://localhost:8080/"
        },
        "id": "Lk--LNCraz2_",
        "outputId": "f5db27ec-9dcd-4917-85cc-37ae86746abd"
      },
      "source": [
        "metrics.accuracy_score(pred_class, val_labels)"
      ],
      "execution_count": null,
      "outputs": [
        {
          "output_type": "execute_result",
          "data": {
            "text/plain": [
              "0.6459197786998617"
            ]
          },
          "metadata": {
            "tags": []
          },
          "execution_count": 38
        }
      ]
    },
    {
      "cell_type": "code",
      "metadata": {
        "id": "ziT8DV2MlLta"
      },
      "source": [
        "clf = MLPClassifier(activation='logistic',solver='sgd', hidden_layer_sizes=(25),\n",
        "                    learning_rate_init=0.5,nesterovs_momentum=False,momentum=0.9,max_iter=400)\n",
        "\n",
        "epochs=np.zeros(10)\n",
        "accuracy=np.zeros(10)\n",
        "for i in range(10):\n",
        "\n",
        "    clf.fit(train_d,train_labels) \n",
        "    pred_class = clf.predict(val_train) # Prediction after learning\n",
        "    epochs[i]=clf.n_iter_\n",
        "    accuracy[i]=accuracy_score(train_labels, pred_class, normalize=False)\n",
        "\n",
        "    \n",
        "print('Mean epochs =%d' % np.mean(epochs))\n",
        "print('Std dev epochs =%d' % np.std(epochs))\n",
        "print('Mean accuracy=%d' % np.mean(accuracy))\n",
        "print('Std dev accuracy =%d' % np.std(accuracy))"
      ],
      "execution_count": null,
      "outputs": []
    },
    {
      "cell_type": "code",
      "metadata": {
        "colab": {
          "base_uri": "https://localhost:8080/"
        },
        "id": "bRhdFw_ZlKyz",
        "outputId": "bcf7c1cd-5032-4b87-8289-4171ee587d17"
      },
      "source": [
        "mlp_clf = MLPClassifier(activation='logistic',solver='sgd', hidden_layer_sizes=(25),\n",
        "                    learning_rate_init=0.5,nesterovs_momentum=False,momentum=0,max_iter=400)\n",
        "\n",
        "epochs=np.zeros(10)\n",
        "accuracy=np.zeros(10)\n",
        "for i in range(10):\n",
        "\n",
        "    mlp_clf.fit(train_d,train_labels) \n",
        "    pred_class2 =  mlp_clf.predict(train_val) # Prediction after learning\n",
        "    epochs[i]= mlp_clf.n_iter_\n",
        "    accuracy[i]=accuracy_score(train_labels, pred_class2, normalize=False)\n",
        "\n",
        "    \n",
        "print('Mean epochs =%d' % np.mean(epochs))\n",
        "print('Std dev epochs =%d' % np.std(epochs))\n",
        "print('Mean accuracy=%d' % np.mean(accuracy))\n",
        "print('Std dev accuracy =%d' % np.std(accuracy))"
      ],
      "execution_count": null,
      "outputs": [
        {
          "output_type": "stream",
          "text": [
            "Mean epochs =75\n",
            "Std dev epochs =0\n",
            "Mean accuracy=510\n",
            "Std dev accuracy =3\n"
          ],
          "name": "stdout"
        }
      ]
    },
    {
      "cell_type": "code",
      "metadata": {
        "id": "00NQZkDZhXS6",
        "colab": {
          "base_uri": "https://localhost:8080/"
        },
        "outputId": "0a154150-9d28-4f62-8401-fc56e11ae2c2"
      },
      "source": [
        "#best so far\n",
        "mlp_clf = MLPClassifier(activation='logistic',solver='adam',learning_rate='constant', hidden_layer_sizes=(25), shuffle=False,\n",
        "                    learning_rate_init=0.5,random_state = None, momentum=0.9, nesterovs_momentum=True, max_iter=200,beta_1 =0.5, beta_2 = 0.8, epsilon = 1e-8)\n",
        "\n",
        "mlp_clf.fit(train_d,train_labels) \n",
        "pred_class2 = mlp_clf.predict(train_val) # Prediction after learning\n",
        "\n",
        "print('Process completed in %d epochs' % mlp_clf.n_iter_)\n",
        "print('Classification accuracy = %d' % accuracy_score(val_labels, pred_class2, normalize=False))\n",
        "print(confusion_matrix(val_labels,pred_class2)) # Confusion matrix"
      ],
      "execution_count": null,
      "outputs": [
        {
          "output_type": "stream",
          "text": [
            "Process completed in 13 epochs\n",
            "Classification accuracy = 523\n",
            "[[242 152]\n",
            " [ 48 281]]\n"
          ],
          "name": "stdout"
        }
      ]
    },
    {
      "cell_type": "code",
      "metadata": {
        "id": "MYsl-5BWKNIJ"
      },
      "source": [
        "#The best\n",
        "mlp_clf = MLPClassifier(activation='logistic',solver='sgd',learning_rate='invscaling', hidden_layer_sizes=(100), shuffle=True,\n",
        "                    learning_rate_init=0.5,random_state = 2, momentum=0.6, nesterovs_momentum=False, max_iter=200,beta_1 =0.9, beta_2 = 0.999, epsilon = 1e-8)\n",
        "\n",
        "mlp_clf.fit(train_d,train_labels) \n",
        "pred_class2 = mlp_clf.predict(train_val) # Prediction after learning\n",
        "\n",
        "print('Process completed in %d epochs' % mlp_clf.n_iter_)\n",
        "print('Classification accuracy = %d' % accuracy_score(val_labels, pred_class2, normalize=False))\n",
        "print(confusion_matrix(val_labels,pred_class2)) # Confusion matrix"
      ],
      "execution_count": null,
      "outputs": []
    }
  ]
}